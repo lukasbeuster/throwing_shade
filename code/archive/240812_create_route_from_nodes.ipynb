{
 "cells": [
  {
   "cell_type": "code",
   "execution_count": 5,
   "metadata": {},
   "outputs": [],
   "source": [
    "import ast\n",
    "import geopandas as gpd\n",
    "import pandas as pd\n",
    "import osmnx as ox\n",
    "import gpxpy\n",
    "import gpxpy.gpx"
   ]
  },
  {
   "cell_type": "code",
   "execution_count": 6,
   "metadata": {},
   "outputs": [],
   "source": [
    "noorderpark = pd.read_csv('../data/raw_data/caroline/noorderpark_routes.csv')\n",
    "\n",
    "noorderpark = noorderpark[noorderpark['Naam'] == 'Noorderpark']\n",
    "\n",
    "# Sort by 'distance_difference' in descending order\n",
    "noorderpark_sorted = noorderpark.sort_values(by='distance_difference', ascending=False)\n",
    "\n",
    "# Select the first 10 rows\n",
    "noorderpark_top10 = noorderpark_sorted.head(10)\n",
    "\n",
    "\n",
    "graph = ox.load_graphml(\"../results/output/caroline/240808_AMS_walknbike_shade_weight_240620.graphml\")"
   ]
  },
  {
   "cell_type": "code",
   "execution_count": 34,
   "metadata": {},
   "outputs": [
    {
     "name": "stdout",
     "output_type": "stream",
     "text": [
      "GPX file saved to ../results/output/caroline/route_shadiest_32.gpx\n",
      "GPX file saved to ../results/output/caroline/route_shortest_32.gpx\n",
      "GPX file saved to ../results/output/caroline/route_shadiest_16.gpx\n",
      "GPX file saved to ../results/output/caroline/route_shortest_16.gpx\n",
      "GPX file saved to ../results/output/caroline/route_shadiest_60.gpx\n",
      "GPX file saved to ../results/output/caroline/route_shortest_60.gpx\n",
      "GPX file saved to ../results/output/caroline/route_shadiest_61.gpx\n",
      "GPX file saved to ../results/output/caroline/route_shortest_61.gpx\n",
      "GPX file saved to ../results/output/caroline/route_shadiest_10.gpx\n",
      "GPX file saved to ../results/output/caroline/route_shortest_10.gpx\n",
      "GPX file saved to ../results/output/caroline/route_shadiest_41.gpx\n",
      "GPX file saved to ../results/output/caroline/route_shortest_41.gpx\n",
      "GPX file saved to ../results/output/caroline/route_shadiest_7.gpx\n",
      "GPX file saved to ../results/output/caroline/route_shortest_7.gpx\n",
      "GPX file saved to ../results/output/caroline/route_shadiest_169.gpx\n",
      "GPX file saved to ../results/output/caroline/route_shortest_169.gpx\n",
      "GPX file saved to ../results/output/caroline/route_shadiest_166.gpx\n",
      "GPX file saved to ../results/output/caroline/route_shortest_166.gpx\n",
      "GPX file saved to ../results/output/caroline/route_shadiest_22.gpx\n",
      "GPX file saved to ../results/output/caroline/route_shortest_22.gpx\n"
     ]
    }
   ],
   "source": [
    "# Assuming 'noorderpark_top10' is your DataFrame and 'graph' contains the node data\n",
    "\n",
    "# Function to create and save a GPX file for a given path\n",
    "def save_gpx(path_list, graph, filename):\n",
    "    # Create a GPX object\n",
    "    gpx = gpxpy.gpx.GPX()\n",
    "\n",
    "    # Create a GPX track\n",
    "    gpx_track = gpxpy.gpx.GPXTrack()\n",
    "    gpx.tracks.append(gpx_track)\n",
    "\n",
    "    # Create a GPX track segment\n",
    "    gpx_segment = gpxpy.gpx.GPXTrackSegment()\n",
    "    gpx_track.segments.append(gpx_segment)\n",
    "\n",
    "    # Add each node in the path to the GPX track segment\n",
    "    for node_id in path_list:\n",
    "        node_data = graph.nodes[node_id]\n",
    "        gpx_point = gpxpy.gpx.GPXTrackPoint(latitude=node_data['lat'], longitude=node_data['lon'])\n",
    "        gpx_segment.points.append(gpx_point)\n",
    "\n",
    "    # Save the GPX file\n",
    "    with open(filename, 'w') as gpx_file:\n",
    "        gpx_file.write(gpx.to_xml())\n",
    "\n",
    "    print(f\"GPX file saved to {filename}\")\n",
    "\n",
    "# Iterate over each row in the DataFrame\n",
    "for index, row in noorderpark_top10.iterrows():\n",
    "    # Extract and convert the 'pathway_nodes_shadiest' and 'pathway_nodes_shortest' columns\n",
    "    shadiest_path = ast.literal_eval(row['pathway_nodes_shadiest'])\n",
    "    shortest_path = ast.literal_eval(row['pathway_nodes_shortest'])\n",
    "\n",
    "    # Generate filenames based on the index or other distinguishing characteristics\n",
    "    shadiest_filename = f\"../results/output/caroline/route_shadiest_{index}.gpx\"\n",
    "    shortest_filename = f\"../results/output/caroline/route_shortest_{index}.gpx\"\n",
    "\n",
    "    # Save GPX files for each path\n",
    "    save_gpx(shadiest_path, graph, shadiest_filename)\n",
    "    save_gpx(shortest_path, graph, shortest_filename)"
   ]
  }
 ],
 "metadata": {
  "kernelspec": {
   "display_name": "geo_env",
   "language": "python",
   "name": "python3"
  },
  "language_info": {
   "codemirror_mode": {
    "name": "ipython",
    "version": 3
   },
   "file_extension": ".py",
   "mimetype": "text/x-python",
   "name": "python",
   "nbconvert_exporter": "python",
   "pygments_lexer": "ipython3",
   "version": "3.12.3"
  }
 },
 "nbformat": 4,
 "nbformat_minor": 2
}
