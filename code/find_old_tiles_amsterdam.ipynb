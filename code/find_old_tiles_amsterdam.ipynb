{
 "cells": [
  {
   "cell_type": "code",
   "execution_count": 1,
   "metadata": {},
   "outputs": [
    {
     "name": "stdout",
     "output_type": "stream",
     "text": [
      "p_xxx values from 2010:\n",
      "['p_100', 'p_101', 'p_102', 'p_103', 'p_104', 'p_105', 'p_106', 'p_107', 'p_108', 'p_113', 'p_114', 'p_115', 'p_116', 'p_117', 'p_118', 'p_119', 'p_120', 'p_121', 'p_122', 'p_123', 'p_127', 'p_128', 'p_129', 'p_130', 'p_131', 'p_132', 'p_133', 'p_134', 'p_135', 'p_136', 'p_137', 'p_141', 'p_142', 'p_143', 'p_144', 'p_145', 'p_146', 'p_149', 'p_150', 'p_151', 'p_197', 'p_211', 'p_383', 'p_93', 'p_94', 'p_99']\n"
     ]
    }
   ],
   "source": [
    "import os\n",
    "import re\n",
    "\n",
    "# Set the path to your folder\n",
    "folder_path = \"../data/clean_data/solar/271110/\"\n",
    "\n",
    "# Regular expression to match and extract p_xxx and the year\n",
    "pattern = re.compile(r\"p_(\\d+)_2010\")\n",
    "\n",
    "# Store matching p_xxx values\n",
    "p_values_2010 = set()\n",
    "\n",
    "# Loop through all files in the folder\n",
    "for filename in os.listdir(folder_path):\n",
    "    match = pattern.search(filename)\n",
    "    if match:\n",
    "        p_value = f\"p_{match.group(1)}\"\n",
    "        p_values_2010.add(p_value)\n",
    "\n",
    "# Convert to sorted list\n",
    "p_values_2010_list = sorted(p_values_2010)\n",
    "\n",
    "# Output the result\n",
    "print(\"p_xxx values from 2010:\")\n",
    "print(p_values_2010_list)"
   ]
  },
  {
   "cell_type": "code",
   "execution_count": 2,
   "metadata": {},
   "outputs": [],
   "source": [
    "def find_raster_files(root_dir, file_pattern):\n",
    "    \"\"\"\n",
    "    Find raster files matching a specific pattern in a directory.\n",
    "\n",
    "    Parameters:\n",
    "        root_dir (str): Directory to search.\n",
    "        file_pattern (str): File pattern to match.\n",
    "\n",
    "    Returns:\n",
    "        list: List of matching file paths.\n",
    "    \"\"\"\n",
    "    return [os.path.join(root, f) for root, _, files in os.walk(root_dir) for f in files if file_pattern in f]"
   ]
  },
  {
   "cell_type": "code",
   "execution_count": null,
   "metadata": {},
   "outputs": [],
   "source": [
    "import os\n",
    "import re\n",
    "\n",
    "# Set the path to your folder\n",
    "folder_path = \"../data/clean_data/solar/271110/\"\n",
    "\n",
    "# Regular expression to match and extract p_xxx and the year\n",
    "pattern = re.compile(r\"p_(\\d+)_2010\")\n",
    "\n",
    "# Store matching p_xxx values\n",
    "p_values_2010 = set()\n",
    "\n",
    "# Loop through all files in the folder\n",
    "for filename in os.listdir(folder_path):\n",
    "    match = pattern.search(filename)\n",
    "    if match:\n",
    "        p_value = f\"p_{match.group(1)}\"\n",
    "        p_values_2010.add(p_value)\n",
    "\n",
    "# Convert to sorted list\n",
    "p_values_2010_list = sorted(p_values_2010)\n",
    "\n",
    "# Output the result\n",
    "print(\"p_xxx values from 2010:\")\n",
    "print(p_values_2010_list)\n",
    "\n",
    "\n",
    "def find_raster_files(root_dir, file_pattern):\n",
    "    \"\"\"\n",
    "    Find raster files matching a specific pattern in a directory.\n",
    "\n",
    "    Parameters:\n",
    "        root_dir (str): Directory to search.\n",
    "        file_pattern (str): File pattern to match.\n",
    "\n",
    "    Returns:\n",
    "        list: List of matching file paths.\n",
    "    \"\"\"\n",
    "    return [os.path.join(root, f) for root, _, files in os.walk(root_dir) for f in files if file_pattern in f]"
   ]
  },
  {
   "cell_type": "code",
   "execution_count": null,
   "metadata": {},
   "outputs": [],
   "source": []
  }
 ],
 "metadata": {
  "kernelspec": {
   "display_name": ".shade_env",
   "language": "python",
   "name": "python3"
  },
  "language_info": {
   "codemirror_mode": {
    "name": "ipython",
    "version": 3
   },
   "file_extension": ".py",
   "mimetype": "text/x-python",
   "name": "python",
   "nbconvert_exporter": "python",
   "pygments_lexer": "ipython3",
   "version": "3.10.12"
  }
 },
 "nbformat": 4,
 "nbformat_minor": 2
}
