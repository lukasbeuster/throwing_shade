{
  "nbformat": 4,
  "nbformat_minor": 0,
  "metadata": {
    "colab": {
      "provenance": []
    },
    "kernelspec": {
      "name": "python3",
      "display_name": "Python 3"
    },
    "language_info": {
      "name": "python"
    }
  },
  "cells": [
    {
      "cell_type": "code",
      "source": [
        "from google.colab import drive\n",
        "drive.mount('/content/drive')"
      ],
      "metadata": {
        "id": "NlC-kXZ3KStH"
      },
      "execution_count": null,
      "outputs": []
    },
    {
      "cell_type": "code",
      "execution_count": null,
      "metadata": {
        "id": "puPKi3jvI93O"
      },
      "outputs": [],
      "source": [
        "import geopandas as gpd\n",
        "import rasterio\n",
        "from rasterio.mask import mask\n",
        "from shapely.geometry import mapping\n",
        "import pandas as pd\n",
        "from rasterstats import zonal_stats\n",
        "\n",
        "# Input file paths\n",
        "sidewalks_path = \"/content/drive/My Drive/sidewalk_inventory/Sidewalk_Inventory.shp\"  # sidewalks shp\n",
        "raster_path = \"/content/drive/My Drive/boston_20230621_900.TIF\"  # shade map\n",
        "neighborhood_path = \"/content/drive/My Drive/2020-census-tracts-in-boston/2020 Census Tracts in Boston.shp\"  # neighborhoods\n",
        "\n",
        "# Load data\n",
        "sidewalks = gpd.read_file(sidewalks_path)\n",
        "vector_data = gpd.read_file(neighborhood_path)\n",
        "raster_data = rasterio.open(raster_path)\n",
        "\n",
        "# Ensure CRS is consistent (very important)\n",
        "sidewalks = sidewalks.to_crs(vector_data.crs)\n",
        "\n",
        "# Step 1: Intersect sidewalks with neighborhoods\n",
        "sidewalks_neigh = gpd.overlay(vector_data, sidewalks, how='intersection')\n",
        "\n",
        "# Step 2: Merge all sidewalk geometries (optional, for clipping the raster)\n",
        "if len(sidewalks) > 1:\n",
        "    combined_geom = sidewalks.unary_union\n",
        "else:\n",
        "    combined_geom = sidewalks.geometry.iloc[0]\n",
        "\n",
        "# Step 3: Clip the raster to the sidewalk area\n",
        "out_image, out_transform = mask(raster_data, [mapping(combined_geom)], crop=True, nodata=0)\n",
        "\n",
        "# Keep only one band\n",
        "if out_image.ndim > 2:\n",
        "    out_image = out_image[0]\n",
        "\n",
        "# Step 4: Zonal statistics over the intersected sidewalk-neighborhood polygons\n",
        "sidewalk_stats = zonal_stats(sidewalks_neigh, out_image, affine=out_transform, stats=['mean', 'sum'])\n",
        "sidewalk_stats_df = pd.DataFrame(sidewalk_stats)\n",
        "sidewalk_stats_df.columns = ['sidewalk_mean', 'sidewalk_sum']\n",
        "\n",
        "# Attach sidewalk stats to sidewalk-neighborhood GeoDataFrame\n",
        "sidewalks_neigh = pd.concat([sidewalks_neigh, sidewalk_stats_df], axis=1)\n",
        "\n",
        "# Step 5: Zonal statistics for the full neighborhood areas (regardless of sidewalks)\n",
        "total_stats = zonal_stats(vector_data, raster_data.name, stats=['mean', 'sum'])\n",
        "total_stats_df = pd.DataFrame(total_stats)\n",
        "total_stats_df.columns = ['total_mean', 'total_sum']\n",
        "\n",
        "vector_data = pd.concat([vector_data, total_stats_df], axis=1)\n",
        "\n",
        "# Step 6: Merge the two results based on neighborhood code\n",
        "# First, group the sidewalk stats by neighborhood\n",
        "sidewalk_grouped = sidewalks_neigh.groupby(\"geoid20\")[['sidewalk_mean', 'sidewalk_sum']].mean().reset_index()\n",
        "\n",
        "# Merge stats back into the main neighborhood GeoDataFrame\n",
        "final = vector_data.merge(sidewalk_grouped, on=\"geoid20\", how=\"left\")\n",
        "\n",
        "# Step 7: Output selected columns to CSV\n",
        "final[['geoid20', 'total_sum', 'total_mean', 'sidewalk_sum', 'sidewalk_mean']].to_csv(\n",
        "    \"/content/drive/My Drive/boston_neighborhood_sun_900.csv\", index=False\n",
        ")"
      ]
    }
  ]
}