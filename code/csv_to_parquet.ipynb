{
 "cells": [
  {
   "cell_type": "markdown",
   "id": "3deb49bd",
   "metadata": {},
   "source": [
    "# Libraries"
   ]
  },
  {
   "cell_type": "code",
   "execution_count": 8,
   "id": "7a18ac4a",
   "metadata": {},
   "outputs": [],
   "source": [
    "import pandas as pd\n",
    "import pyarrow as pa\n",
    "import pyarrow.parquet as pq\n",
    "import geopandas as gpd\n",
    "import geopandas as gpd\n",
    "from shapely.geometry import Point"
   ]
  },
  {
   "cell_type": "markdown",
   "id": "cc885646",
   "metadata": {},
   "source": [
    "# From CSV to Parquet (no need to rerun)"
   ]
  },
  {
   "cell_type": "code",
   "execution_count": null,
   "id": "6c4602f9",
   "metadata": {},
   "outputs": [],
   "source": [
    "\n",
    "\n",
    "# 1. Read your large CSV in chunks (optional, but safer for 14 GB):\n",
    "reader = pd.read_csv('../data/raw_data/breeze/thermal_drift_data/bos/trackpoints.csv', chunksize=1_000_000)\n",
    "\n",
    "out_file = '../data/raw_data/breeze/thermal_drift_data/bos/trackpoints.parquet'\n",
    "\n",
    "writer = None\n",
    "for chunk in reader:\n",
    "    table = pa.Table.from_pandas(chunk)\n",
    "    if writer is None:\n",
    "        # Create writer with schema from first chunk\n",
    "        writer = pq.ParquetWriter(out_file,\n",
    "                                  schema=table.schema,\n",
    "                                  compression='snappy')\n",
    "    writer.write_table(table)\n",
    "\n",
    "# don’t forget to close!\n",
    "if writer:\n",
    "    writer.close()\n"
   ]
  },
  {
   "cell_type": "code",
   "execution_count": 3,
   "id": "3f1af3ff",
   "metadata": {},
   "outputs": [
    {
     "name": "stdout",
     "output_type": "stream",
     "text": [
      "                           tripUuid                              time  \\\n",
      "0  032c491ed5233848d66b45715a0cf40d  2014-10-04T19:20:15.143000+00:00   \n",
      "1  032c491ed5233848d66b45715a0cf40d  2014-10-04T19:20:30.286000+00:00   \n",
      "2  032c491ed5233848d66b45715a0cf40d  2014-10-04T19:20:45.429000+00:00   \n",
      "3  032c491ed5233848d66b45715a0cf40d  2014-10-04T19:20:57.714000+00:00   \n",
      "4  032c491ed5233848d66b45715a0cf40d  2014-10-04T19:20:57.736000+00:00   \n",
      "\n",
      "    latitude  longitude  elevation  \n",
      "0  42.357646 -71.058108   0.000000  \n",
      "1  42.357820 -71.058011   0.000000  \n",
      "2  42.358055 -71.057927   0.000000  \n",
      "3  42.358525 -71.058137  23.110687  \n",
      "4  42.358526 -71.058160  23.101101  \n",
      "tripUuid      object\n",
      "time          object\n",
      "latitude     float64\n",
      "longitude    float64\n",
      "elevation    float64\n",
      "dtype: object\n",
      "Total rows: 125500600\n"
     ]
    }
   ],
   "source": [
    "# Read just the first few rows and inspect\n",
    "df = pd.read_parquet(\n",
    "    '../data/raw_data/breeze/thermal_drift_data/bos/trackpoints.parquet',\n",
    "    columns=['tripUuid','time','latitude','longitude','elevation']\n",
    ")\n",
    "print(df.head())\n",
    "print(df.dtypes)\n",
    "print(f\"Total rows: {len(df)}\")"
   ]
  },
  {
   "cell_type": "markdown",
   "id": "34085c81",
   "metadata": {},
   "source": [
    "# Filter trajectories intersecting/ within Back Bay"
   ]
  },
  {
   "cell_type": "markdown",
   "id": "e7a5d9fe",
   "metadata": {},
   "source": [
    "## Boston Neighbourhoods to Back Bay only"
   ]
  },
  {
   "cell_type": "code",
   "execution_count": 9,
   "id": "84fc8dc2",
   "metadata": {},
   "outputs": [
    {
     "data": {
      "text/html": [
       "<div>\n",
       "<style scoped>\n",
       "    .dataframe tbody tr th:only-of-type {\n",
       "        vertical-align: middle;\n",
       "    }\n",
       "\n",
       "    .dataframe tbody tr th {\n",
       "        vertical-align: top;\n",
       "    }\n",
       "\n",
       "    .dataframe thead th {\n",
       "        text-align: right;\n",
       "    }\n",
       "</style>\n",
       "<table border=\"1\" class=\"dataframe\">\n",
       "  <thead>\n",
       "    <tr style=\"text-align: right;\">\n",
       "      <th></th>\n",
       "      <th>OBJECTID</th>\n",
       "      <th>name</th>\n",
       "      <th>acres</th>\n",
       "      <th>neighborhood_id</th>\n",
       "      <th>sqmiles</th>\n",
       "      <th>Shape_Length</th>\n",
       "      <th>Shape_Area</th>\n",
       "      <th>shape_wkt</th>\n",
       "      <th>geometry</th>\n",
       "    </tr>\n",
       "  </thead>\n",
       "  <tbody>\n",
       "    <tr>\n",
       "      <th>10</th>\n",
       "      <td>11</td>\n",
       "      <td>Back Bay</td>\n",
       "      <td>399.314411</td>\n",
       "      <td>2</td>\n",
       "      <td>0.62</td>\n",
       "      <td>0.063374</td>\n",
       "      <td>0.000177</td>\n",
       "      <td>None</td>\n",
       "      <td>POLYGON ((-71.07569 42.35691, -71.07571 42.356...</td>\n",
       "    </tr>\n",
       "  </tbody>\n",
       "</table>\n",
       "</div>"
      ],
      "text/plain": [
       "    OBJECTID      name       acres neighborhood_id  sqmiles  Shape_Length  \\\n",
       "10        11  Back Bay  399.314411               2     0.62      0.063374   \n",
       "\n",
       "    Shape_Area shape_wkt                                           geometry  \n",
       "10    0.000177      None  POLYGON ((-71.07569 42.35691, -71.07571 42.356...  "
      ]
     },
     "execution_count": 9,
     "metadata": {},
     "output_type": "execute_result"
    }
   ],
   "source": [
    "# load the Back Bay polygon\n",
    "nb = gpd.read_file('../data/raw_data/bos/boston_neighborhood_boundaries.json')\\\n",
    "       .to_crs('EPSG:4326')    # make sure it matches your track CRS\n",
    "back_bay = nb[nb['name']=='Back Bay']\n",
    "back_bay.to_file('../data/raw_data/bos/back_bay.json', driver='GEOJSON')"
   ]
  },
  {
   "cell_type": "markdown",
   "id": "f79e29a0",
   "metadata": {},
   "source": [
    "## All trajectories - filtered by Back Bay relation"
   ]
  },
  {
   "cell_type": "code",
   "execution_count": 2,
   "id": "b6d7f939",
   "metadata": {},
   "outputs": [
    {
     "name": "stdout",
     "output_type": "stream",
     "text": [
      "total_bounds: [-71.09166804  42.34152804 -71.06989839  42.35697693] <class 'numpy.ndarray'> float64\n",
      "After bbox filter: 16635659 points (down from 125500600)\n",
      "12239655 points truly inside Back Bay\n",
      "37678 trajectories intersect Back Bay, total points: 23371599\n"
     ]
    }
   ],
   "source": [
    "# 1️⃣ Load your full table (already done):\n",
    "df = pd.read_parquet(\n",
    "    '../data/raw_data/breeze/thermal_drift_data/bos/trackpoints.parquet',\n",
    "    columns=['tripUuid','time','latitude','longitude','elevation']\n",
    ")\n",
    "\n",
    "# 2️⃣ Force lat/lon into floats\n",
    "df['latitude']  = pd.to_numeric(df['latitude'],  errors='coerce')\n",
    "df['longitude'] = pd.to_numeric(df['longitude'], errors='coerce')\n",
    "\n",
    "# Drop any rows where conversion failed\n",
    "df = df.dropna(subset=['latitude','longitude'])\n",
    "\n",
    "# 3️⃣ Read your Back Bay polygon and get its bounding box\n",
    "poly = gpd.read_file('../data/raw_data/bos/back_bay.json').to_crs('EPSG:4326')\n",
    "bounds = poly.total_bounds  \n",
    "print(\"total_bounds:\", bounds, type(bounds), bounds.dtype)\n",
    "# e.g. array([ -71.06    ,  42.35    ,  -71.05    ,  42.36    ])\n",
    "poly = poly.geometry.iloc[0]\n",
    "minx, miny, maxx, maxy = bounds  # these will be floats\n",
    "# Just to be safe, you can cast explicitly:\n",
    "minx, miny, maxx, maxy = map(float, (minx, miny, maxx, maxy))\n",
    "\n",
    "# 4️⃣ Cheap vectorized bbox cut\n",
    "df_bbox = df[\n",
    "    (df.longitude >= minx) & (df.longitude <= maxx) &\n",
    "    (df.latitude  >= miny) & (df.latitude  <= maxy)\n",
    "]\n",
    "print(f\"After bbox filter: {len(df_bbox)} points (down from {len(df)})\")\n",
    "\n",
    "# 5️⃣ Precise within-poly filter on only that slice\n",
    "gdf_bbox = gpd.GeoDataFrame(\n",
    "    df_bbox,\n",
    "    geometry=gpd.points_from_xy(df_bbox.longitude, df_bbox.latitude),\n",
    "    crs='EPSG:4326'\n",
    ")\n",
    "\n",
    "inside_mask = gdf_bbox.geometry.within(poly)\n",
    "gdf_backbay = gdf_bbox.loc[inside_mask].copy()\n",
    "print(f\"{len(gdf_backbay)} points truly inside Back Bay\")\n",
    "\n",
    "\n",
    "# 5️⃣ (Optional) Extract tripUuids and then pull full trajectories\n",
    "backbay_trip_ids = gdf_backbay['tripUuid'].unique()\n",
    "df_backbay_full = df[df.tripUuid.isin(backbay_trip_ids)]\n",
    "print(f\"{len(backbay_trip_ids)} trajectories intersect Back Bay, total points: {len(df_backbay_full)}\")\n",
    "\n",
    "# 6️⃣ Save out the subset\n",
    "df_backbay_full.to_parquet('../data/raw_data/breeze/thermal_drift_data/bos/back_bay_trackpoints.parquet', index=False)"
   ]
  },
  {
   "cell_type": "markdown",
   "id": "28d48035",
   "metadata": {},
   "source": [
    "## Trips completely within Back Bay"
   ]
  },
  {
   "cell_type": "code",
   "execution_count": 3,
   "id": "d0368b5d",
   "metadata": {},
   "outputs": [
    {
     "name": "stdout",
     "output_type": "stream",
     "text": [
      "16596 trajectories are completely within Back Bay, total points: 5398412\n"
     ]
    }
   ],
   "source": [
    "inside_counts = gdf_backbay.groupby('tripUuid').size().rename('inside_count')\n",
    "\n",
    "# 4️⃣ Compute total counts of points for those trips\n",
    "total_counts  = df[df.tripUuid.isin(inside_counts.index)] \\\n",
    "                   .groupby('tripUuid').size() \\\n",
    "                   .rename('total_count')\n",
    "\n",
    "# 5️⃣ Join and select exclusively‐inside trips\n",
    "counts = pd.concat([total_counts, inside_counts], axis=1).fillna(0)\n",
    "exclusive_ids = counts.loc[counts.total_count == counts.inside_count].index.tolist()\n",
    "df_backbay_exclusive = df[df.tripUuid.isin(exclusive_ids)]\n",
    "print(f\"{len(exclusive_ids)} trajectories are completely within Back Bay, total points: {len(df_backbay_exclusive)}\")\n",
    "\n",
    "df_backbay_exclusive.to_parquet('../data/raw_data/breeze/thermal_drift_data/bos/back_bay_exclusive_trackpoints.parquet', index=False)\n"
   ]
  },
  {
   "cell_type": "code",
   "execution_count": 4,
   "id": "68d07160",
   "metadata": {},
   "outputs": [
    {
     "data": {
      "text/html": [
       "<div>\n",
       "<style scoped>\n",
       "    .dataframe tbody tr th:only-of-type {\n",
       "        vertical-align: middle;\n",
       "    }\n",
       "\n",
       "    .dataframe tbody tr th {\n",
       "        vertical-align: top;\n",
       "    }\n",
       "\n",
       "    .dataframe thead th {\n",
       "        text-align: right;\n",
       "    }\n",
       "</style>\n",
       "<table border=\"1\" class=\"dataframe\">\n",
       "  <thead>\n",
       "    <tr style=\"text-align: right;\">\n",
       "      <th></th>\n",
       "      <th>tripUuid</th>\n",
       "      <th>time</th>\n",
       "      <th>latitude</th>\n",
       "      <th>longitude</th>\n",
       "      <th>elevation</th>\n",
       "    </tr>\n",
       "  </thead>\n",
       "  <tbody>\n",
       "    <tr>\n",
       "      <th>0</th>\n",
       "      <td>032c491ed5233848d66b45715a0cf40d</td>\n",
       "      <td>2014-10-04T19:20:15.143000+00:00</td>\n",
       "      <td>42.357646</td>\n",
       "      <td>-71.058108</td>\n",
       "      <td>0.000000</td>\n",
       "    </tr>\n",
       "    <tr>\n",
       "      <th>1</th>\n",
       "      <td>032c491ed5233848d66b45715a0cf40d</td>\n",
       "      <td>2014-10-04T19:20:30.286000+00:00</td>\n",
       "      <td>42.357820</td>\n",
       "      <td>-71.058011</td>\n",
       "      <td>0.000000</td>\n",
       "    </tr>\n",
       "    <tr>\n",
       "      <th>2</th>\n",
       "      <td>032c491ed5233848d66b45715a0cf40d</td>\n",
       "      <td>2014-10-04T19:20:45.429000+00:00</td>\n",
       "      <td>42.358055</td>\n",
       "      <td>-71.057927</td>\n",
       "      <td>0.000000</td>\n",
       "    </tr>\n",
       "    <tr>\n",
       "      <th>3</th>\n",
       "      <td>032c491ed5233848d66b45715a0cf40d</td>\n",
       "      <td>2014-10-04T19:20:57.714000+00:00</td>\n",
       "      <td>42.358525</td>\n",
       "      <td>-71.058137</td>\n",
       "      <td>23.110687</td>\n",
       "    </tr>\n",
       "    <tr>\n",
       "      <th>4</th>\n",
       "      <td>032c491ed5233848d66b45715a0cf40d</td>\n",
       "      <td>2014-10-04T19:20:57.736000+00:00</td>\n",
       "      <td>42.358526</td>\n",
       "      <td>-71.058160</td>\n",
       "      <td>23.101101</td>\n",
       "    </tr>\n",
       "  </tbody>\n",
       "</table>\n",
       "</div>"
      ],
      "text/plain": [
       "                           tripUuid                              time  \\\n",
       "0  032c491ed5233848d66b45715a0cf40d  2014-10-04T19:20:15.143000+00:00   \n",
       "1  032c491ed5233848d66b45715a0cf40d  2014-10-04T19:20:30.286000+00:00   \n",
       "2  032c491ed5233848d66b45715a0cf40d  2014-10-04T19:20:45.429000+00:00   \n",
       "3  032c491ed5233848d66b45715a0cf40d  2014-10-04T19:20:57.714000+00:00   \n",
       "4  032c491ed5233848d66b45715a0cf40d  2014-10-04T19:20:57.736000+00:00   \n",
       "\n",
       "    latitude  longitude  elevation  \n",
       "0  42.357646 -71.058108   0.000000  \n",
       "1  42.357820 -71.058011   0.000000  \n",
       "2  42.358055 -71.057927   0.000000  \n",
       "3  42.358525 -71.058137  23.110687  \n",
       "4  42.358526 -71.058160  23.101101  "
      ]
     },
     "execution_count": 4,
     "metadata": {},
     "output_type": "execute_result"
    }
   ],
   "source": [
    "df.head()"
   ]
  },
  {
   "cell_type": "code",
   "execution_count": 9,
   "id": "10f47af0",
   "metadata": {},
   "outputs": [],
   "source": [
    "# 1. Read just the time column\n",
    "df = pd.read_parquet(\n",
    "    '../data/raw_data/breeze/thermal_drift_data/bos/trackpoints.parquet',\n",
    "    columns=['time']\n",
    ")\n"
   ]
  },
  {
   "cell_type": "code",
   "execution_count": null,
   "id": "ebbeeac6",
   "metadata": {},
   "outputs": [
    {
     "ename": "NameError",
     "evalue": "name 'times' is not defined",
     "output_type": "error",
     "traceback": [
      "\u001b[0;31m---------------------------------------------------------------------------\u001b[0m",
      "\u001b[0;31mNameError\u001b[0m                                 Traceback (most recent call last)",
      "Cell \u001b[0;32mIn[10], line 9\u001b[0m\n\u001b[1;32m      2\u001b[0m df[\u001b[38;5;124m'\u001b[39m\u001b[38;5;124mtime\u001b[39m\u001b[38;5;124m'\u001b[39m] \u001b[38;5;241m=\u001b[39m pd\u001b[38;5;241m.\u001b[39mto_datetime(df[\u001b[38;5;124m'\u001b[39m\u001b[38;5;124mtime\u001b[39m\u001b[38;5;124m'\u001b[39m], \n\u001b[1;32m      3\u001b[0m                             utc\u001b[38;5;241m=\u001b[39m\u001b[38;5;28;01mTrue\u001b[39;00m, \n\u001b[1;32m      4\u001b[0m                             errors\u001b[38;5;241m=\u001b[39m\u001b[38;5;124m'\u001b[39m\u001b[38;5;124mcoerce\u001b[39m\u001b[38;5;124m'\u001b[39m, \u001b[38;5;66;03m# turn unparsables into NaT\u001b[39;00m\n\u001b[1;32m      5\u001b[0m                             )\n\u001b[1;32m      8\u001b[0m \u001b[38;5;66;03m# 3. Inspect how many failed\u001b[39;00m\n\u001b[0;32m----> 9\u001b[0m n_invalid \u001b[38;5;241m=\u001b[39m \u001b[43mtimes\u001b[49m[\u001b[38;5;124m'\u001b[39m\u001b[38;5;124mtime_parsed\u001b[39m\u001b[38;5;124m'\u001b[39m]\u001b[38;5;241m.\u001b[39misna()\u001b[38;5;241m.\u001b[39msum()\n\u001b[1;32m     10\u001b[0m \u001b[38;5;28mprint\u001b[39m(\u001b[38;5;124mf\u001b[39m\u001b[38;5;124m\"\u001b[39m\u001b[38;5;132;01m{\u001b[39;00mn_invalid\u001b[38;5;132;01m}\u001b[39;00m\u001b[38;5;124m rows failed to parse and became NaT\u001b[39m\u001b[38;5;124m\"\u001b[39m)\n\u001b[1;32m     12\u001b[0m \u001b[38;5;66;03m# 4. Drop the bad ones before analysis\u001b[39;00m\n",
      "\u001b[0;31mNameError\u001b[0m: name 'times' is not defined"
     ]
    }
   ],
   "source": [
    "# 2. Ensure it’s a proper datetime type\n",
    "df['time'] = pd.to_datetime(df['time'], \n",
    "                            utc=True, \n",
    "                            errors='coerce', # turn unparsables into NaT\n",
    "                            )\n",
    "\n",
    "\n",
    "# 3. Inspect how many failed\n",
    "n_invalid = times['time_parsed'].isna().sum()\n",
    "print(f\"{n_invalid} rows failed to parse and became NaT\")\n",
    "\n",
    "# 4. Drop the bad ones before analysis\n",
    "valid_times = times['time_parsed'].dropna()\n",
    "\n",
    "# 5. Find the overall range\n",
    "min_time = df['time'].min()\n",
    "max_time = df['time'].max()\n",
    "print(f\"Data spans from {min_time} to {max_time}\")\n",
    "\n",
    "# 6. Which years are present?\n",
    "years = df['time'].dt.year.unique()\n",
    "print(\"Years in dataset:\", sorted(years))\n",
    "\n",
    "# 7. (Optional) Count per year\n",
    "year_counts = df['time'].dt.year.value_counts().sort_index()\n",
    "print(\"\\nCounts per year:\\n\", year_counts)"
   ]
  },
  {
   "cell_type": "code",
   "execution_count": 11,
   "id": "c8e651f8",
   "metadata": {},
   "outputs": [
    {
     "name": "stdout",
     "output_type": "stream",
     "text": [
      "69307 rows failed to parse and became NaT\n",
      "Data spans from 2014-05-19 15:55:22.861000+00:00 to 2015-05-05 00:18:23.291000+00:00\n",
      "Years in dataset: [np.float64(2014.0), np.float64(2015.0), np.float64(nan)]\n",
      "\n",
      "Counts per year:\n",
      " time\n",
      "2014.0    80123583\n",
      "2015.0    45307710\n",
      "Name: count, dtype: int64\n"
     ]
    }
   ],
   "source": [
    "# 3. Inspect how many failed\n",
    "n_invalid = df['time'].isna().sum()\n",
    "print(f\"{n_invalid} rows failed to parse and became NaT\")\n",
    "\n",
    "# 4. Drop the bad ones before analysis\n",
    "valid_times = df['time'].dropna()\n",
    "\n",
    "# 5. Find the overall range\n",
    "min_time = df['time'].min()\n",
    "max_time = df['time'].max()\n",
    "print(f\"Data spans from {min_time} to {max_time}\")\n",
    "\n",
    "# 6. Which years are present?\n",
    "years = df['time'].dt.year.unique()\n",
    "print(\"Years in dataset:\", sorted(years))\n",
    "\n",
    "# 7. (Optional) Count per year\n",
    "year_counts = df['time'].dt.year.value_counts().sort_index()\n",
    "print(\"\\nCounts per year:\\n\", year_counts)"
   ]
  },
  {
   "cell_type": "code",
   "execution_count": null,
   "id": "3c6379a0",
   "metadata": {},
   "outputs": [],
   "source": []
  }
 ],
 "metadata": {
  "kernelspec": {
   "display_name": ".thermal_drift",
   "language": "python",
   "name": "python3"
  },
  "language_info": {
   "codemirror_mode": {
    "name": "ipython",
    "version": 3
   },
   "file_extension": ".py",
   "mimetype": "text/x-python",
   "name": "python",
   "nbconvert_exporter": "python",
   "pygments_lexer": "ipython3",
   "version": "3.10.12"
  }
 },
 "nbformat": 4,
 "nbformat_minor": 5
}
