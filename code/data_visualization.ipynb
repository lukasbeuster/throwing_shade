{
 "cells": [
  {
   "cell_type": "markdown",
   "metadata": {},
   "source": [
    "#### Make gif from .tif images"
   ]
  },
  {
   "cell_type": "code",
   "execution_count": null,
   "metadata": {},
   "outputs": [],
   "source": [
    "import os\n",
    "import re\n",
    "import rasterio\n",
    "import numpy as np\n",
    "import imageio\n",
    "from PIL import Image\n",
    "\n",
    "# Path to directory containing the .tif files\n",
    "base_path = \"../code/results/output/e6a08fb8/tree_shade/27\"\n",
    "output_gif_path = \"../code/results/output/visuals/e6a08fb8/shade_over_day.gif\"\n",
    "\n",
    "# Regular expression pattern to extract timestamp from filenames\n",
    "pattern = re.compile(r\".*_(\\d{8})_(\\d{4})_LST\\.tif\")  # Example: file_20230305_1200_LST.tif\n",
    "\n",
    "# Collect valid .tif files\n",
    "frame_files = []\n",
    "for filename in os.listdir(base_path):\n",
    "    if filename.endswith(\".tif\") and not filename.endswith(\".tif.ovr\"):  # Exclude overview files\n",
    "        match = pattern.match(filename)\n",
    "        if match:\n",
    "            frame_files.append(os.path.join(base_path, filename))\n",
    "\n",
    "# Sort files by date and time extracted from filename\n",
    "frame_files.sort()\n",
    "\n",
    "# List to store processed images\n",
    "frames = []\n",
    "\n",
    "# Read and process each `.tif` file\n",
    "for tif_file in frame_files:\n",
    "    with rasterio.open(tif_file) as src:\n",
    "        # Read the first band (if multiband, modify as needed)\n",
    "        img_array = src.read(1)\n",
    "\n",
    "        # Normalize to 0-255 if necessary\n",
    "        img_array = (255 * (img_array - np.min(img_array)) / (np.max(img_array) - np.min(img_array))).astype(np.uint8)\n",
    "\n",
    "        # Convert to PIL image\n",
    "        img = Image.fromarray(img_array)\n",
    "        frames.append(img)\n",
    "\n",
    "# Save as GIF\n",
    "frames[0].save(output_gif_path, save_all=True, append_images=frames[1:], duration=100, loop=0)\n",
    "\n",
    "print(f\"GIF saved at: {output_gif_path}\")\n"
   ]
  },
  {
   "cell_type": "markdown",
   "metadata": {},
   "source": [
    "#### Make .gif from plots"
   ]
  },
  {
   "cell_type": "code",
   "execution_count": null,
   "metadata": {},
   "outputs": [],
   "source": [
    "import geopandas as gpd\n",
    "import matplotlib.pyplot as plt\n",
    "import imageio\n",
    "import os\n",
    "\n",
    "# Define output folder for frames\n",
    "output_folder = \"grid_animation_frames\"\n",
    "os.makedirs(output_folder, exist_ok=True)\n",
    "\n",
    "# Plot the base layer: points dataset\n",
    "fig, ax = plt.subplots(figsize=(10, 8))\n",
    "points_dataset.plot(ax=ax, color=\"red\", markersize=0.4, label=\"Points\")\n",
    "plt.title(\"Grid Cells Processing\")\n",
    "plt.xlabel(\"East (m)\")\n",
    "plt.ylabel(\"North (m)\")\n",
    "plt.grid(True)\n",
    "\n",
    "# Save initial frame (just points dataset)\n",
    "frame_files = []\n",
    "frame_path = os.path.join(output_folder, f\"frame_000.png\")\n",
    "plt.savefig(frame_path, dpi=150)\n",
    "frame_files.append(frame_path)\n",
    "\n",
    "# Process and overlay tiles one by one\n",
    "valid_tiles = valid_grid_gdf[valid_grid_gdf[\"point_count\"] >= 5000]\n",
    "\n",
    "for i, (_, row) in enumerate(valid_tiles.iterrows()):\n",
    "    row_gdf = gpd.GeoDataFrame([row], crs=valid_tiles.crs)\n",
    "\n",
    "    # Overlay the current tile\n",
    "    row_gdf.plot(ax=ax, edgecolor=\"blue\", facecolor=\"none\", linewidth=1.5)\n",
    "\n",
    "    # Annotate the cell index\n",
    "    centroid = row.geometry.centroid\n",
    "    ax.text(centroid.x, centroid.y, str(i), fontsize=8, color=\"black\",\n",
    "            ha=\"center\", va=\"center\", bbox=dict(facecolor=\"white\", alpha=0.5, edgecolor=\"none\"))\n",
    "\n",
    "    # Save frame\n",
    "    frame_path = os.path.join(output_folder, f\"frame_{i+1:03d}.png\")\n",
    "    plt.savefig(frame_path, dpi=150)\n",
    "    frame_files.append(frame_path)\n",
    "\n",
    "# Create GIF\n",
    "gif_path = \"../code/results/output/visuals/d48092b5/tile_processing.gif\"\n",
    "imageio.mimsave(gif_path, [imageio.imread(frame) for frame in frame_files], duration=0.5)\n",
    "\n",
    "print(f\"GIF saved at: {gif_path}\")"
   ]
  }
 ],
 "metadata": {
  "kernelspec": {
   "display_name": "shade_env",
   "language": "python",
   "name": "python3"
  },
  "language_info": {
   "name": "python",
   "version": "3.11.11"
  }
 },
 "nbformat": 4,
 "nbformat_minor": 2
}
