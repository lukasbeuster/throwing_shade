{
 "cells": [
  {
   "cell_type": "code",
   "execution_count": null,
   "metadata": {},
   "outputs": [],
   "source": [
    "import os\n",
    "import random\n",
    "import shutil\n",
    "\n",
    "def copy_random_files(osm_ids, source_root, target_folder, file_name_pattern, file_extension):\n",
    "    \"\"\"\n",
    "    Copies 5 random files matching a specific name pattern and extension from each OSM ID folder.\n",
    "\n",
    "    Parameters:\n",
    "    - osm_ids (list): List of OSM IDs to process.\n",
    "    - source_root (str): Path to the root directory containing OSM ID folders.\n",
    "    - target_folder (str): Path to the target directory for copied files.\n",
    "    - file_name_pattern (str): Pattern in file names to look for.\n",
    "    - file_extension (str): Extension of the files to copy.\n",
    "    \"\"\"\n",
    "    if not os.path.exists(target_folder):\n",
    "        os.makedirs(target_folder)\n",
    "\n",
    "    for osm_id in osm_ids:\n",
    "        osm_folder = os.path.join(source_root, str(osm_id))\n",
    "        if not os.path.exists(osm_folder):\n",
    "            print(f\"Folder for OSM ID {osm_id} not found. Skipping...\")\n",
    "            continue\n",
    "\n",
    "        # Find all files matching the pattern and extension\n",
    "        matching_files = [\n",
    "            f for f in os.listdir(osm_folder)\n",
    "            if f.endswith(file_extension) and file_name_pattern in f\n",
    "        ]\n",
    "\n",
    "        if len(matching_files) < 5:\n",
    "            print(f\"Not enough matching files in folder {osm_folder}. Found {len(matching_files)}.\")\n",
    "            continue\n",
    "\n",
    "        # Randomly select 5 files\n",
    "        selected_files = random.sample(matching_files, 5)\n",
    "\n",
    "        # Copy selected files to target folder\n",
    "        for file in selected_files:\n",
    "            src_file_path = os.path.join(osm_folder, file)\n",
    "            dest_file_path = os.path.join(target_folder, file)\n",
    "            shutil.copy(src_file_path, dest_file_path)\n",
    "            print(f\"Copied {src_file_path} to {dest_file_path}\")"
   ]
  },
  {
   "cell_type": "code",
   "execution_count": null,
   "metadata": {},
   "outputs": [],
   "source": [
    "\n",
    "\n",
    "# Example usage\n",
    "osm_ids = [398021, 271110, 2315704, 1933745, 8896976, 913110, 536780, 185567, 2697338, 125106, 79604]  # Replace with your OSM IDs\n",
    "source_root = \"../data/clean_data/solar/\"  # Replace with the root directory path\n",
    "target_folder = \"../data/clean_data/solar/validation_sample/\"  # Replace with the target folder path\n",
    "file_name_pattern = \"_rgb\"  # Replace with the name pattern you're looking for\n",
    "file_extension = \".tif\"  # Replace with the desired file extension\n",
    "\n",
    "copy_random_files(osm_ids, source_root, target_folder, file_name_pattern, file_extension)"
   ]
  }
 ],
 "metadata": {
  "kernelspec": {
   "display_name": "throwing_shade",
   "language": "python",
   "name": "python3"
  },
  "language_info": {
   "name": "python",
   "version": "3.12.3"
  }
 },
 "nbformat": 4,
 "nbformat_minor": 2
}
